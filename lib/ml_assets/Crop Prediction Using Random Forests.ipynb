{
  "cells": [
    {
      "attachments": {},
      "cell_type": "markdown",
      "metadata": {
        "id": "NZSxeZdHq4Bs"
      },
      "source": [
        "# **Crop Prediction Using Random Forests**"
      ]
    },
    {
      "cell_type": "code",
      "execution_count": null,
      "metadata": {
        "colab": {
          "base_uri": "https://localhost:8080/"
        },
        "id": "LtUx0DwpBSII",
        "outputId": "eba33bbf-2697-438d-d257-1a8fc7b7ad1e"
      },
      "outputs": [],
      "source": [
        "import pandas as pd\n",
        "from sklearn.model_selection import train_test_split\n",
        "from sklearn.ensemble import RandomForestClassifier\n",
        "from sklearn.ensemble import RandomForestRegressor\n",
        "data = pd.read_csv('AgrcultureDataset.csv')\n",
        "data = data.head(220000) # for limiting number of rows\n",
        "data['Production'] = pd.to_numeric(data['Production'], errors='coerce')\n",
        "# Engineer new feature\n",
        "seasonal_data = data.groupby(['Crop', 'Season'], as_index=False).agg({'Area': 'mean', 'Production': 'mean'})\n",
        "seasonal_data.columns = ['Crop', 'Season', 'MeanArea', 'MeanProduction']\n",
        "data = pd.merge(data, seasonal_data, on=['Crop', 'Season'], how='left')\n",
        "data['SeasonalAreaRatio'] = data['Area'] / data['MeanArea']\n",
        "data['SeasonalProductionRatio'] = data['Production'] / data['MeanProduction']\n",
        "data = data.dropna(subset=['Production'])\n",
        "data = pd.get_dummies(data, columns=['District_Name', 'Season', 'Crop'])\n",
        "# Update feature matrix\n",
        "X = data.drop(['Production','State_Name','Crop_Year'], axis=1)\n",
        "y = data['Production']\n",
        "X_train, X_test, y_train, y_test = train_test_split(X, y, test_size=0.2)\n",
        "y_train = y_train.fillna(y_train.mode()[0])\n",
        "X_train = X_train.fillna(X_train.mean())\n",
        "clf = RandomForestRegressor(n_estimators=50, min_samples_split=10, min_samples_leaf=5)\n",
        "clf.fit(X_train, y_train)\n",
        "# Update input data construction\n",
        "input_location = 'VELLORE'\n",
        "input_area = 560\n",
        "input_season = 'Whole Year'\n",
        "district_name_col = f'District_Name_{input_location}'\n",
        "if district_name_col not in X.columns:\n",
        "    raise ValueError(f'Invalid district name: {input_location}')\n",
        "season_col = f'Season_{input_season}'\n",
        "crop_columns = [col for col in X.columns if col.startswith('Crop_')]\n",
        "#print(crop_columns)\n",
        "input_data = []\n",
        "for crop in crop_columns:\n",
        "    crop_name = crop.split('_')[1]\n",
        "    seasonal_data_row = seasonal_data[(seasonal_data['Crop'] == crop_name) & (seasonal_data['Season'] == input_season)]\n",
        "    if not seasonal_data_row.empty:\n",
        "        mean_area_value = seasonal_data_row['MeanArea'].values[0]\n",
        "        mean_production_value = seasonal_data_row['MeanProduction'].values[0]\n",
        "        seasonal_area_ratio_value = input_area / mean_area_value\n",
        "    else:\n",
        "        groupby_columns = crop_columns + ['Area', 'Production']\n",
        "        crop_data = data.groupby(groupby_columns, as_index=False).agg({'Area': 'mean', 'Production': 'mean'})\n",
        "        mean_area_value = crop_data[crop_data[crop] == 1]['Area'].values[0]\n",
        "        mean_production_value = crop_data[crop_data[crop] == 1]['Production'].values[0]\n",
        "        seasonal_area_ratio_value = input_area / mean_area_value\n",
        "    row = {district_name_col: 1, 'Area': input_area, season_col: 1, 'SeasonalAreaRatio': seasonal_area_ratio_value}\n",
        "    for c in crop_columns:\n",
        "        row[c] = 1 if c == crop else 0\n",
        "    input_data.append(row)\n",
        "input_data = pd.DataFrame(input_data).reindex(columns=X.columns, fill_value=0)\n",
        "input_data = input_data.fillna(input_data.mean())\n",
        "predicted_production = clf.predict(input_data)\n",
        "recommended_crop_index = predicted_production.argmax()\n",
        "recommended_crop = crop_columns[recommended_crop_index].split('_')[1]\n",
        "train_accuracy = clf.score(X_train, y_train)\n",
        "print(f'Training accuracy: {train_accuracy:.2f}')\n",
        "print(f'The recommended crop for location: {input_location}, area: {input_area}, and season: {input_season} is {recommended_crop}.')"
      ]
    },
    {
      "cell_type": "code",
      "execution_count": null,
      "metadata": {
        "id": "nFHmzrB9Jwhn"
      },
      "outputs": [],
      "source": [
        "import pickle\n",
        "# save the model to disk\n",
        "filename = 'finalized_model.sav'\n",
        "pickle.dump(clf, open(filename, 'wb'))"
      ]
    },
    {
      "cell_type": "code",
      "execution_count": null,
      "metadata": {
        "colab": {
          "base_uri": "https://localhost:8080/"
        },
        "id": "7OGKmqFLJz_e",
        "outputId": "77237bbf-fe90-45cc-c5d9-df7895191277"
      },
      "outputs": [],
      "source": [
        "# Load the saved model\n",
        "with open('finalized_model.sav', 'rb') as file:\n",
        "    model = pickle.load(file)\n",
        "\n",
        "input_location = 'NAGAON'\n",
        "input_area = 6000\n",
        "input_season = 'Whole Year'\n",
        "district_name_col = f'District_Name_{input_location}'\n",
        "if district_name_col not in X.columns:\n",
        "    raise ValueError(f'Invalid district name: {input_location}')\n",
        "season_col = f'Season_{input_season}'\n",
        "crop_columns = [col for col in X.columns if col.startswith('Crop_')]\n",
        "#print(crop_columns)\n",
        "input_data = []\n",
        "for crop in crop_columns:\n",
        "    crop_name = crop.split('_')[1]\n",
        "    seasonal_data_row = seasonal_data[(seasonal_data['Crop'] == crop_name) & (seasonal_data['Season'] == input_season)]\n",
        "    if not seasonal_data_row.empty:\n",
        "        mean_area_value = seasonal_data_row['MeanArea'].values[0]\n",
        "        mean_production_value = seasonal_data_row['MeanProduction'].values[0]\n",
        "        seasonal_area_ratio_value = input_area / mean_area_value\n",
        "    else:\n",
        "        groupby_columns = crop_columns + ['Area', 'Production']\n",
        "        crop_data = data.groupby(groupby_columns, as_index=False).agg({'Area': 'mean', 'Production': 'mean'})\n",
        "        mean_area_value = crop_data[crop_data[crop] == 1]['Area'].values[0]\n",
        "        mean_production_value = crop_data[crop_data[crop] == 1]['Production'].values[0]\n",
        "        seasonal_area_ratio_value = input_area / mean_area_value\n",
        "    row = {district_name_col: 1, 'Area': input_area, season_col: 1, 'SeasonalAreaRatio': seasonal_area_ratio_value}\n",
        "    for c in crop_columns:\n",
        "        row[c] = 1 if c == crop else 0\n",
        "    input_data.append(row)\n",
        "input_data = pd.DataFrame(input_data).reindex(columns=X.columns, fill_value=0)\n",
        "input_data = input_data.fillna(input_data.mean())\n",
        "#print(input_data.head())\n",
        "\n",
        "# Make predictions\n",
        "predictions = model.predict(input_data)\n",
        "recommended_crop_index = predictions.argmax()\n",
        "recommended_crop = crop_columns[recommended_crop_index].split('_')[1]\n",
        "print(f'The recommended crop for location: {input_location}, area: {input_area}, and season: {input_season} is {recommended_crop}.')"
      ]
    }
  ],
  "metadata": {
    "colab": {
      "provenance": []
    },
    "kernelspec": {
      "display_name": "Python 3",
      "name": "python3"
    },
    "language_info": {
      "name": "python"
    }
  },
  "nbformat": 4,
  "nbformat_minor": 0
}
