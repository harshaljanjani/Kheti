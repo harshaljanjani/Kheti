{
 "cells": [
  {
   "cell_type": "markdown",
   "metadata": {
    "id": "3DR-eO17geWu"
   },
   "source": [
    "# Convolutional Neural Network"
   ]
  },
  {
   "cell_type": "markdown",
   "metadata": {
    "id": "EMefrVPCg-60"
   },
   "source": [
    "### Importing the libraries"
   ]
  },
  {
   "cell_type": "code",
   "execution_count": 1,
   "metadata": {
    "id": "sCV30xyVhFbE"
   },
   "outputs": [],
   "source": [
    "import tensorflow as tf\n",
    "from keras.preprocessing.image import ImageDataGenerator\n",
    "import matplotlib.pyplot as plt"
   ]
  },
  {
   "cell_type": "code",
   "execution_count": 47,
   "metadata": {},
   "outputs": [
    {
     "name": "stdout",
     "output_type": "stream",
     "text": [
      "^C\n",
      "Note: you may need to restart the kernel to use updated packages.\n"
     ]
    }
   ],
   "source": [
    "\n",
    "%pip install tensorflowjs"
   ]
  },
  {
   "cell_type": "code",
   "execution_count": 48,
   "metadata": {
    "colab": {
     "base_uri": "https://localhost:8080/",
     "height": 36
    },
    "id": "FIleuCAjoFD8",
    "outputId": "521a9075-1cd8-422d-a88a-739801422975"
   },
   "outputs": [
    {
     "data": {
      "text/plain": [
       "'2.11.0'"
      ]
     },
     "execution_count": 48,
     "metadata": {},
     "output_type": "execute_result"
    }
   ],
   "source": [
    "tf.__version__"
   ]
  },
  {
   "cell_type": "markdown",
   "metadata": {
    "id": "oxQxCBWyoGPE"
   },
   "source": [
    "## Part 1 - Data Preprocessing"
   ]
  },
  {
   "cell_type": "markdown",
   "metadata": {
    "id": "MvE-heJNo3GG"
   },
   "source": [
    "### Preprocessing the Training set"
   ]
  },
  {
   "cell_type": "code",
   "execution_count": 2,
   "metadata": {
    "colab": {
     "base_uri": "https://localhost:8080/",
     "height": 415
    },
    "id": "0koUcJMJpEBD",
    "outputId": "1b5677d0-cf9d-4d3d-c0dc-cd2e2bc554a0"
   },
   "outputs": [
    {
     "name": "stdout",
     "output_type": "stream",
     "text": [
      "Found 45 images belonging to 2 classes.\n"
     ]
    }
   ],
   "source": [
    "train_datagen = ImageDataGenerator(rescale = 1./255,\n",
    "                                   shear_range = 0.2,\n",
    "                                   zoom_range = 0.2,\n",
    "                                   horizontal_flip = True)\n",
    "training_set = train_datagen.flow_from_directory('DataSet/training_set/training_set',\n",
    "                                                 target_size = (64, 64),\n",
    "                                                 batch_size = 4,\n",
    "                                                 class_mode = 'binary')"
   ]
  },
  {
   "cell_type": "markdown",
   "metadata": {
    "id": "mrCMmGw9pHys"
   },
   "source": [
    "### Preprocessing the Test set"
   ]
  },
  {
   "cell_type": "code",
   "execution_count": 3,
   "metadata": {
    "id": "SH4WzfOhpKc3"
   },
   "outputs": [
    {
     "name": "stdout",
     "output_type": "stream",
     "text": [
      "Found 38 images belonging to 2 classes.\n"
     ]
    }
   ],
   "source": [
    "test_datagen = ImageDataGenerator(rescale = 1./255)\n",
    "test_set = test_datagen.flow_from_directory('DataSet/test_set/test_set',\n",
    "                                            target_size = (64, 64),\n",
    "                                            batch_size = 32,\n",
    "                                            class_mode = 'binary')"
   ]
  },
  {
   "cell_type": "markdown",
   "metadata": {
    "id": "af8O4l90gk7B"
   },
   "source": [
    "## Part 2 - Building the CNN"
   ]
  },
  {
   "cell_type": "markdown",
   "metadata": {
    "id": "ces1gXY2lmoX"
   },
   "source": [
    "### Initialising the CNN"
   ]
  },
  {
   "cell_type": "code",
   "execution_count": 4,
   "metadata": {
    "id": "SAUt4UMPlhLS"
   },
   "outputs": [],
   "source": [
    "cnn = tf.keras.models.Sequential()"
   ]
  },
  {
   "cell_type": "markdown",
   "metadata": {
    "id": "u5YJj_XMl5LF"
   },
   "source": [
    "### Step 1 - Convolution"
   ]
  },
  {
   "cell_type": "code",
   "execution_count": 5,
   "metadata": {
    "id": "XPzPrMckl-hV"
   },
   "outputs": [],
   "source": [
    "cnn.add(tf.keras.layers.Conv2D(filters=32, kernel_size=3, activation='relu', input_shape=[64, 64, 3]))"
   ]
  },
  {
   "cell_type": "markdown",
   "metadata": {
    "id": "tf87FpvxmNOJ"
   },
   "source": [
    "### Step 2 - Pooling"
   ]
  },
  {
   "cell_type": "code",
   "execution_count": 6,
   "metadata": {
    "id": "ncpqPl69mOac"
   },
   "outputs": [],
   "source": [
    "cnn.add(tf.keras.layers.MaxPool2D(pool_size=2, strides=2))"
   ]
  },
  {
   "cell_type": "markdown",
   "metadata": {
    "id": "xaTOgD8rm4mU"
   },
   "source": [
    "### Adding a second convolutional layer"
   ]
  },
  {
   "cell_type": "code",
   "execution_count": 7,
   "metadata": {
    "id": "i_-FZjn_m8gk"
   },
   "outputs": [],
   "source": [
    "cnn.add(tf.keras.layers.Conv2D(filters=32, kernel_size=3, activation='relu'))\n",
    "cnn.add(tf.keras.layers.MaxPool2D(pool_size=2, strides=2))"
   ]
  },
  {
   "cell_type": "markdown",
   "metadata": {
    "id": "tmiEuvTunKfk"
   },
   "source": [
    "### Step 3 - Flattening"
   ]
  },
  {
   "cell_type": "code",
   "execution_count": 8,
   "metadata": {
    "id": "6AZeOGCvnNZn"
   },
   "outputs": [],
   "source": [
    "cnn.add(tf.keras.layers.Flatten())"
   ]
  },
  {
   "cell_type": "markdown",
   "metadata": {
    "id": "dAoSECOm203v"
   },
   "source": [
    "### Step 4 - Full Connection"
   ]
  },
  {
   "cell_type": "code",
   "execution_count": 9,
   "metadata": {
    "id": "8GtmUlLd26Nq"
   },
   "outputs": [],
   "source": [
    "cnn.add(tf.keras.layers.Dense(units=128, activation='relu'))"
   ]
  },
  {
   "cell_type": "markdown",
   "metadata": {
    "id": "yTldFvbX28Na"
   },
   "source": [
    "### Step 5 - Output Layer"
   ]
  },
  {
   "cell_type": "code",
   "execution_count": 10,
   "metadata": {
    "id": "1p_Zj1Mc3Ko_"
   },
   "outputs": [],
   "source": [
    "cnn.add(tf.keras.layers.Dense(units=1, activation='sigmoid'))"
   ]
  },
  {
   "cell_type": "markdown",
   "metadata": {
    "id": "D6XkI90snSDl"
   },
   "source": [
    "## Part 3 - Training the CNN"
   ]
  },
  {
   "cell_type": "markdown",
   "metadata": {
    "id": "vfrFQACEnc6i"
   },
   "source": [
    "### Compiling the CNN"
   ]
  },
  {
   "cell_type": "code",
   "execution_count": 11,
   "metadata": {
    "id": "NALksrNQpUlJ"
   },
   "outputs": [],
   "source": [
    "cnn.compile(optimizer = 'adam', loss = 'binary_crossentropy', metrics = ['accuracy'])"
   ]
  },
  {
   "cell_type": "markdown",
   "metadata": {
    "id": "ehS-v3MIpX2h"
   },
   "source": [
    "### Training the CNN on the Training set and evaluating it on the Test set"
   ]
  },
  {
   "cell_type": "code",
   "execution_count": 12,
   "metadata": {
    "id": "XUj1W4PJptta"
   },
   "outputs": [
    {
     "name": "stdout",
     "output_type": "stream",
     "text": [
      "Epoch 1/30\n",
      "12/12 [==============================] - 3s 121ms/step - loss: 0.6975 - accuracy: 0.7111 - val_loss: 0.6120 - val_accuracy: 0.7105\n",
      "Epoch 2/30\n",
      "12/12 [==============================] - 1s 82ms/step - loss: 0.6074 - accuracy: 0.7556 - val_loss: 0.5667 - val_accuracy: 0.7105\n",
      "Epoch 3/30\n",
      "12/12 [==============================] - 1s 85ms/step - loss: 0.5414 - accuracy: 0.7556 - val_loss: 0.5274 - val_accuracy: 0.7105\n",
      "Epoch 4/30\n",
      "12/12 [==============================] - 1s 82ms/step - loss: 0.4992 - accuracy: 0.7556 - val_loss: 0.5277 - val_accuracy: 0.7105\n",
      "Epoch 5/30\n",
      "12/12 [==============================] - 1s 85ms/step - loss: 0.4129 - accuracy: 0.7556 - val_loss: 0.4504 - val_accuracy: 0.7105\n",
      "Epoch 6/30\n",
      "12/12 [==============================] - 1s 82ms/step - loss: 0.4138 - accuracy: 0.7111 - val_loss: 0.5124 - val_accuracy: 0.7368\n",
      "Epoch 7/30\n",
      "12/12 [==============================] - 1s 51ms/step - loss: 0.4843 - accuracy: 0.7556 - val_loss: 0.7033 - val_accuracy: 0.7105\n",
      "Epoch 8/30\n",
      "12/12 [==============================] - 1s 60ms/step - loss: 0.4545 - accuracy: 0.7556 - val_loss: 0.3879 - val_accuracy: 0.7632\n",
      "Epoch 9/30\n",
      "12/12 [==============================] - 1s 61ms/step - loss: 0.3802 - accuracy: 0.8222 - val_loss: 0.3436 - val_accuracy: 0.8158\n",
      "Epoch 10/30\n",
      "12/12 [==============================] - 1s 62ms/step - loss: 0.2976 - accuracy: 0.8222 - val_loss: 0.2965 - val_accuracy: 0.9211\n",
      "Epoch 11/30\n",
      "12/12 [==============================] - 1s 60ms/step - loss: 0.3000 - accuracy: 0.8889 - val_loss: 0.2369 - val_accuracy: 0.9211\n",
      "Epoch 12/30\n",
      "12/12 [==============================] - 1s 59ms/step - loss: 0.1902 - accuracy: 0.9333 - val_loss: 0.2099 - val_accuracy: 0.9211\n",
      "Epoch 13/30\n",
      "12/12 [==============================] - 1s 62ms/step - loss: 0.1821 - accuracy: 0.9556 - val_loss: 0.1505 - val_accuracy: 0.9474\n",
      "Epoch 14/30\n",
      "12/12 [==============================] - 1s 74ms/step - loss: 0.0956 - accuracy: 1.0000 - val_loss: 0.2262 - val_accuracy: 0.9737\n",
      "Epoch 15/30\n",
      "12/12 [==============================] - 1s 63ms/step - loss: 0.1062 - accuracy: 0.9556 - val_loss: 0.1351 - val_accuracy: 0.9211\n",
      "Epoch 16/30\n",
      "12/12 [==============================] - 1s 63ms/step - loss: 0.1337 - accuracy: 0.9556 - val_loss: 0.1500 - val_accuracy: 0.9474\n",
      "Epoch 17/30\n",
      "12/12 [==============================] - 1s 69ms/step - loss: 0.1661 - accuracy: 0.9333 - val_loss: 0.1144 - val_accuracy: 0.9737\n",
      "Epoch 18/30\n",
      "12/12 [==============================] - 1s 65ms/step - loss: 0.1349 - accuracy: 0.9778 - val_loss: 0.2166 - val_accuracy: 0.9211\n",
      "Epoch 19/30\n",
      "12/12 [==============================] - 1s 59ms/step - loss: 0.0905 - accuracy: 0.9778 - val_loss: 0.0977 - val_accuracy: 0.9737\n",
      "Epoch 20/30\n",
      "12/12 [==============================] - 1s 64ms/step - loss: 0.0315 - accuracy: 1.0000 - val_loss: 0.1054 - val_accuracy: 0.9737\n",
      "Epoch 21/30\n",
      "12/12 [==============================] - 1s 70ms/step - loss: 0.0181 - accuracy: 1.0000 - val_loss: 0.1280 - val_accuracy: 0.9737\n",
      "Epoch 22/30\n",
      "12/12 [==============================] - 1s 68ms/step - loss: 0.0073 - accuracy: 1.0000 - val_loss: 0.1420 - val_accuracy: 0.9737\n",
      "Epoch 23/30\n",
      "12/12 [==============================] - 1s 66ms/step - loss: 0.0219 - accuracy: 1.0000 - val_loss: 0.1546 - val_accuracy: 0.9474\n",
      "Epoch 24/30\n",
      "12/12 [==============================] - 1s 67ms/step - loss: 0.0075 - accuracy: 1.0000 - val_loss: 0.1293 - val_accuracy: 0.9737\n",
      "Epoch 25/30\n",
      "12/12 [==============================] - 1s 68ms/step - loss: 0.0052 - accuracy: 1.0000 - val_loss: 0.1301 - val_accuracy: 0.9737\n",
      "Epoch 26/30\n",
      "12/12 [==============================] - 1s 67ms/step - loss: 0.0055 - accuracy: 1.0000 - val_loss: 0.1380 - val_accuracy: 0.9737\n",
      "Epoch 27/30\n",
      "12/12 [==============================] - 1s 68ms/step - loss: 0.0021 - accuracy: 1.0000 - val_loss: 0.1486 - val_accuracy: 0.9737\n",
      "Epoch 28/30\n",
      "12/12 [==============================] - 1s 64ms/step - loss: 0.0374 - accuracy: 0.9778 - val_loss: 0.3466 - val_accuracy: 0.8947\n",
      "Epoch 29/30\n",
      "12/12 [==============================] - 1s 68ms/step - loss: 0.0795 - accuracy: 0.9556 - val_loss: 0.1034 - val_accuracy: 0.9737\n",
      "Epoch 30/30\n",
      "12/12 [==============================] - 1s 71ms/step - loss: 0.0166 - accuracy: 1.0000 - val_loss: 0.1140 - val_accuracy: 0.9737\n"
     ]
    }
   ],
   "source": [
    "history = cnn.fit(x = training_set, validation_data = test_set, epochs = 30)"
   ]
  },
  {
   "cell_type": "markdown",
   "metadata": {
    "id": "U3PZasO0006Z"
   },
   "source": [
    "## Part 4 - Making a single prediction"
   ]
  },
  {
   "cell_type": "code",
   "execution_count": 22,
   "metadata": {
    "id": "gsSiWEJY1BPB"
   },
   "outputs": [
    {
     "name": "stdout",
     "output_type": "stream",
     "text": [
      "1/1 [==============================] - 0s 35ms/step\n"
     ]
    }
   ],
   "source": [
    "import numpy as np\n",
    "from keras.preprocessing import image\n",
    "test_image = tf.keras.utils.load_img('DataSet\\single_prediction\\d17.jpeg', target_size = (64, 64))\n",
    "test_image = tf.keras.utils.img_to_array(test_image)\n",
    "test_image = np.expand_dims(test_image, axis = 0)\n",
    "result = cnn.predict(test_image)\n",
    "training_set.class_indices\n",
    "if result[0][0] == 1:\n",
    "  prediction = 'Valid Aadhar'\n",
    "else:\n",
    "  prediction = 'Not a Valid Aadhar'"
   ]
  },
  {
   "cell_type": "code",
   "execution_count": 61,
   "metadata": {},
   "outputs": [
    {
     "name": "stderr",
     "output_type": "stream",
     "text": [
      "WARNING:absl:Found untraced functions such as _jit_compiled_convolution_op, _jit_compiled_convolution_op, _update_step_xla while saving (showing 3 of 3). These functions will not be directly callable after loading.\n"
     ]
    },
    {
     "name": "stdout",
     "output_type": "stream",
     "text": [
      "INFO:tensorflow:Assets written to: cnn\\assets\n"
     ]
    },
    {
     "name": "stderr",
     "output_type": "stream",
     "text": [
      "INFO:tensorflow:Assets written to: cnn\\assets\n"
     ]
    }
   ],
   "source": [
    "tf.saved_model.save(cnn, \"cnn\")"
   ]
  },
  {
   "cell_type": "code",
   "execution_count": 77,
   "metadata": {},
   "outputs": [],
   "source": [
    "# Convert the model\n",
    "saved_model_dir = 'C:/Users/dbahe/Downloads/Women Techies - DL Auth/cnn'\n",
    "\n",
    "# Convert the model\n",
    "converter = tf.lite.TFLiteConverter.from_saved_model(saved_model_dir)\n",
    "tflite_model = converter.convert()\n",
    "\n",
    "# Save the model.\n",
    "with open('model.tflite', 'wb') as f:\n",
    "  f.write(tflite_model)"
   ]
  },
  {
   "cell_type": "code",
   "execution_count": 23,
   "metadata": {
    "id": "ED9KB3I54c1i"
   },
   "outputs": [
    {
     "name": "stdout",
     "output_type": "stream",
     "text": [
      "Not a Valid Aadhar\n"
     ]
    }
   ],
   "source": [
    "print(prediction)"
   ]
  },
  {
   "cell_type": "code",
   "execution_count": 24,
   "metadata": {},
   "outputs": [
    {
     "name": "stdout",
     "output_type": "stream",
     "text": [
      "Model: \"sequential\"\n",
      "_________________________________________________________________\n",
      " Layer (type)                Output Shape              Param #   \n",
      "=================================================================\n",
      " conv2d (Conv2D)             (None, 62, 62, 32)        896       \n",
      "                                                                 \n",
      " max_pooling2d (MaxPooling2D  (None, 31, 31, 32)       0         \n",
      " )                                                               \n",
      "                                                                 \n",
      " conv2d_1 (Conv2D)           (None, 29, 29, 32)        9248      \n",
      "                                                                 \n",
      " max_pooling2d_1 (MaxPooling  (None, 14, 14, 32)       0         \n",
      " 2D)                                                             \n",
      "                                                                 \n",
      " flatten (Flatten)           (None, 6272)              0         \n",
      "                                                                 \n",
      " dense (Dense)               (None, 128)               802944    \n",
      "                                                                 \n",
      " dense_1 (Dense)             (None, 1)                 129       \n",
      "                                                                 \n",
      "=================================================================\n",
      "Total params: 813,217\n",
      "Trainable params: 813,217\n",
      "Non-trainable params: 0\n",
      "_________________________________________________________________\n"
     ]
    }
   ],
   "source": [
    "cnn.summary()"
   ]
  },
  {
   "cell_type": "code",
   "execution_count": 45,
   "metadata": {},
   "outputs": [
    {
     "data": {
      "image/png": "[encoded data removed]",
      "text/plain": [
       "<Figure size 432x288 with 1 Axes>"
      ]
     },
     "metadata": {
      "needs_background": "light"
     },
     "output_type": "display_data"
    },
    {
     "data": {
      "image/png": "[encoded data removed]",
      "text/plain": [
       "<Figure size 432x288 with 1 Axes>"
      ]
     },
     "metadata": {
      "needs_background": "light"
     },
     "output_type": "display_data"
    }
   ],
   "source": [
    "acc = history.history['accuracy']\n",
    "val_acc = history.history['val_accuracy']\n",
    "loss = history.history['loss']\n",
    "val_loss = history.history['val_loss']\n",
    "epochs = range(1, len(acc) + 1)\n",
    "\n",
    "plt.plot(epochs, acc, 'bo', label='Training acc')\n",
    "plt.plot(epochs, val_acc, 'b', label='Validation acc')\n",
    "plt.title('Training and validation accuracy')\n",
    "plt.legend()\n",
    "\n",
    "plt.figure()\n",
    "\n",
    "plt.plot(epochs, loss, 'bo', label='Training loss')\n",
    "plt.plot(epochs, val_loss, 'b', label='Validation loss')\n",
    "plt.title('Training and validation loss')\n",
    "plt.legend()\n",
    "\n",
    "plt.show()"
   ]
  }
 ],
 "metadata": {
  "colab": {
   "provenance": []
  },
  "kernelspec": {
   "display_name": "base",
   "language": "python",
   "name": "python3"
  },
  "language_info": {
   "codemirror_mode": {
    "name": "ipython",
    "version": 3
   },
   "file_extension": ".py",
   "mimetype": "text/x-python",
   "name": "python",
   "nbconvert_exporter": "python",
   "pygments_lexer": "ipython3",
   "version": "3.9.7"
  },
  "vscode": {
   "interpreter": {
    "hash": "93c9aae51eaf5520e54d55a68d59b8fc80420f94a108bea41435b72ca1d38768"
   }
  }
 },
 "nbformat": 4,
 "nbformat_minor": 1
}
